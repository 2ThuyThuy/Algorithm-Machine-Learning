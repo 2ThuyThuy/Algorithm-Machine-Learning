{
 "cells": [
  {
   "cell_type": "code",
   "execution_count": 8,
   "id": "7142a472",
   "metadata": {},
   "outputs": [],
   "source": [
    "import os, sys\n",
    "import numpy as np\n",
    "from scipy import signal\n",
    "import matplotlib.pyplot as plt\n",
    "import IPython.display as ipd\n",
    "import librosa.display\n",
    "import soundfile as sf\n",
    "import libfmp.b"
   ]
  },
  {
   "cell_type": "code",
   "execution_count": 10,
   "id": "80849be9",
   "metadata": {},
   "outputs": [],
   "source": [
    "INPUT_DIR = \"../JKspeech\"\n",
    "PROBLEM_DIR = \"../sample_Q_202205/sample_Q_E01/problem1.wav\"\n",
    "normal_file_1 = INPUT_DIR + \"/E01.wav\"\n",
    "normal_file_2 = INPUT_DIR + \"/E02.wav\"\n",
    "normal_file_3 = INPUT_DIR + \"/E03.wav\""
   ]
  },
  {
   "cell_type": "code",
   "execution_count": null,
   "id": "dce61b0a",
   "metadata": {},
   "outputs": [],
   "source": []
  },
  {
   "cell_type": "code",
   "execution_count": null,
   "id": "81c2b3df",
   "metadata": {},
   "outputs": [],
   "source": []
  },
  {
   "cell_type": "code",
   "execution_count": null,
   "id": "681e5676",
   "metadata": {},
   "outputs": [],
   "source": []
  },
  {
   "cell_type": "code",
   "execution_count": null,
   "id": "8d40f9e5",
   "metadata": {},
   "outputs": [],
   "source": []
  },
  {
   "cell_type": "code",
   "execution_count": null,
   "id": "fe61b8e1",
   "metadata": {},
   "outputs": [],
   "source": []
  }
 ],
 "metadata": {
  "kernelspec": {
   "display_name": "Python 3 (ipykernel)",
   "language": "python",
   "name": "python3"
  },
  "language_info": {
   "codemirror_mode": {
    "name": "ipython",
    "version": 3
   },
   "file_extension": ".py",
   "mimetype": "text/x-python",
   "name": "python",
   "nbconvert_exporter": "python",
   "pygments_lexer": "ipython3",
   "version": "3.7.6"
  }
 },
 "nbformat": 4,
 "nbformat_minor": 5
}
